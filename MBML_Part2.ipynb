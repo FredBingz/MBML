{
 "cells": [
  {
   "cell_type": "code",
   "execution_count": 1,
   "metadata": {},
   "outputs": [
    {
     "name": "stderr",
     "output_type": "stream",
     "text": [
      "/Users/c-hasselris/opt/anaconda3/envs/Python3.10/lib/python3.10/site-packages/tqdm/auto.py:21: TqdmWarning: IProgress not found. Please update jupyter and ipywidgets. See https://ipywidgets.readthedocs.io/en/stable/user_install.html\n",
      "  from .autonotebook import tqdm as notebook_tqdm\n"
     ]
    }
   ],
   "source": [
    "import pandas as pd\n",
    "import numpy as np\n",
    "import torch\n",
    "import pyro\n",
    "import pyro.distributions as dist\n",
    "import pyro.infer\n",
    "from pyro.infer import SVI, Trace_ELBO, Predictive\n",
    "from pyro.optim import ClippedAdam\n",
    "from pyro.nn import PyroModule, PyroSample\n",
    "import torch.nn as nn\n",
    "from pyro.infer.autoguide import AutoDiagonalNormal\n",
    "from sklearn.model_selection import train_test_split\n",
    "import matplotlib.pyplot as plt\n",
    "\n",
    "import numpy as np\n",
    "import pandas as pd\n",
    "from matplotlib import pyplot as plt\n",
    "from matplotlib.lines import Line2D\n",
    "import seaborn as sns\n",
    "\n",
    "\n",
    "import time\n",
    "\n",
    "# fix random generator seed (for reproducibility of results)\n",
    "np.random.seed(42)\n",
    "\n",
    "# matplotlib style options\n",
    "plt.style.use('ggplot')\n",
    "%matplotlib inline\n",
    "plt.rcParams['figure.figsize'] = (16, 10)"
   ]
  },
  {
   "cell_type": "code",
   "execution_count": 2,
   "metadata": {},
   "outputs": [
    {
     "data": {
      "text/plain": [
       "Index(['HourDK', 'Wind', 'Hydro', 'Solar', 'Power', 'Unknown_Production',\n",
       "       'ExchangeGreatBelt_MWh', 'GrossConsumptionMWh', 'Exchange', 'GridLoss',\n",
       "       'SpotPriceDKK', 'SpotPriceEUR', 'hourly_temperature_2m',\n",
       "       'precipitation', 'cloud_cover', 'hourly_wind_speed_10m'],\n",
       "      dtype='object')"
      ]
     },
     "execution_count": 2,
     "metadata": {},
     "output_type": "execute_result"
    }
   ],
   "source": [
    "df = pd.read_pickle('merged_df_DK2.pkl')\n",
    "df['HourDK'] = pd.to_datetime(df['HourDK'])\n",
    "df=df.drop('HourUTC', axis=1)\n",
    "df=df.drop('PriceArea', axis=1)\n",
    "df.columns"
   ]
  },
  {
   "cell_type": "code",
   "execution_count": 3,
   "metadata": {},
   "outputs": [
    {
     "data": {
      "text/html": [
       "<div>\n",
       "<style scoped>\n",
       "    .dataframe tbody tr th:only-of-type {\n",
       "        vertical-align: middle;\n",
       "    }\n",
       "\n",
       "    .dataframe tbody tr th {\n",
       "        vertical-align: top;\n",
       "    }\n",
       "\n",
       "    .dataframe thead th {\n",
       "        text-align: right;\n",
       "    }\n",
       "</style>\n",
       "<table border=\"1\" class=\"dataframe\">\n",
       "  <thead>\n",
       "    <tr style=\"text-align: right;\">\n",
       "      <th></th>\n",
       "      <th>HourDK</th>\n",
       "      <th>Wind</th>\n",
       "      <th>Solar</th>\n",
       "      <th>Power</th>\n",
       "      <th>GrossConsumptionMWh</th>\n",
       "      <th>SpotPriceDKK</th>\n",
       "      <th>hourly_temperature_2m</th>\n",
       "      <th>cloud_cover</th>\n",
       "      <th>hourly_wind_speed_10m</th>\n",
       "    </tr>\n",
       "  </thead>\n",
       "  <tbody>\n",
       "    <tr>\n",
       "      <th>1</th>\n",
       "      <td>2022-01-01 00:00:00</td>\n",
       "      <td>1114.281163</td>\n",
       "      <td>0.022679</td>\n",
       "      <td>789.892353</td>\n",
       "      <td>1415.517875</td>\n",
       "      <td>346.540009</td>\n",
       "      <td>7.0</td>\n",
       "      <td>100</td>\n",
       "      <td>4.14</td>\n",
       "    </tr>\n",
       "    <tr>\n",
       "      <th>3</th>\n",
       "      <td>2022-01-01 01:00:00</td>\n",
       "      <td>1206.825676</td>\n",
       "      <td>0.022142</td>\n",
       "      <td>644.458331</td>\n",
       "      <td>1394.053760</td>\n",
       "      <td>307.350006</td>\n",
       "      <td>7.4</td>\n",
       "      <td>100</td>\n",
       "      <td>4.10</td>\n",
       "    </tr>\n",
       "    <tr>\n",
       "      <th>5</th>\n",
       "      <td>2022-01-01 02:00:00</td>\n",
       "      <td>1215.685368</td>\n",
       "      <td>0.020423</td>\n",
       "      <td>599.437590</td>\n",
       "      <td>1342.593361</td>\n",
       "      <td>313.670013</td>\n",
       "      <td>6.9</td>\n",
       "      <td>100</td>\n",
       "      <td>3.98</td>\n",
       "    </tr>\n",
       "    <tr>\n",
       "      <th>7</th>\n",
       "      <td>2022-01-01 03:00:00</td>\n",
       "      <td>1070.803483</td>\n",
       "      <td>0.024189</td>\n",
       "      <td>624.804126</td>\n",
       "      <td>1292.604709</td>\n",
       "      <td>329.959991</td>\n",
       "      <td>6.6</td>\n",
       "      <td>100</td>\n",
       "      <td>3.57</td>\n",
       "    </tr>\n",
       "    <tr>\n",
       "      <th>9</th>\n",
       "      <td>2022-01-01 04:00:00</td>\n",
       "      <td>899.497269</td>\n",
       "      <td>0.019869</td>\n",
       "      <td>650.523492</td>\n",
       "      <td>1261.550580</td>\n",
       "      <td>280.130005</td>\n",
       "      <td>6.7</td>\n",
       "      <td>100</td>\n",
       "      <td>3.01</td>\n",
       "    </tr>\n",
       "    <tr>\n",
       "      <th>...</th>\n",
       "      <td>...</td>\n",
       "      <td>...</td>\n",
       "      <td>...</td>\n",
       "      <td>...</td>\n",
       "      <td>...</td>\n",
       "      <td>...</td>\n",
       "      <td>...</td>\n",
       "      <td>...</td>\n",
       "      <td>...</td>\n",
       "    </tr>\n",
       "    <tr>\n",
       "      <th>37911</th>\n",
       "      <td>2024-02-29 19:00:00</td>\n",
       "      <td>1269.406780</td>\n",
       "      <td>0.603984</td>\n",
       "      <td>692.384290</td>\n",
       "      <td>1950.231822</td>\n",
       "      <td>402.510010</td>\n",
       "      <td>7.0</td>\n",
       "      <td>100</td>\n",
       "      <td>4.73</td>\n",
       "    </tr>\n",
       "    <tr>\n",
       "      <th>37913</th>\n",
       "      <td>2024-02-29 20:00:00</td>\n",
       "      <td>1295.941996</td>\n",
       "      <td>0.462586</td>\n",
       "      <td>699.232854</td>\n",
       "      <td>1856.984338</td>\n",
       "      <td>216.910004</td>\n",
       "      <td>6.8</td>\n",
       "      <td>100</td>\n",
       "      <td>4.74</td>\n",
       "    </tr>\n",
       "    <tr>\n",
       "      <th>37915</th>\n",
       "      <td>2024-02-29 21:00:00</td>\n",
       "      <td>1279.730675</td>\n",
       "      <td>0.429421</td>\n",
       "      <td>669.755253</td>\n",
       "      <td>1767.729341</td>\n",
       "      <td>186.720001</td>\n",
       "      <td>6.5</td>\n",
       "      <td>100</td>\n",
       "      <td>4.84</td>\n",
       "    </tr>\n",
       "    <tr>\n",
       "      <th>37916</th>\n",
       "      <td>2024-02-29 22:00:00</td>\n",
       "      <td>1233.604793</td>\n",
       "      <td>0.437171</td>\n",
       "      <td>605.839292</td>\n",
       "      <td>1654.056866</td>\n",
       "      <td>186.720001</td>\n",
       "      <td>6.5</td>\n",
       "      <td>100</td>\n",
       "      <td>4.82</td>\n",
       "    </tr>\n",
       "    <tr>\n",
       "      <th>37919</th>\n",
       "      <td>2024-02-29 23:00:00</td>\n",
       "      <td>1179.234544</td>\n",
       "      <td>0.241834</td>\n",
       "      <td>565.812364</td>\n",
       "      <td>1566.990822</td>\n",
       "      <td>186.500000</td>\n",
       "      <td>6.7</td>\n",
       "      <td>100</td>\n",
       "      <td>4.67</td>\n",
       "    </tr>\n",
       "  </tbody>\n",
       "</table>\n",
       "<p>18960 rows × 9 columns</p>\n",
       "</div>"
      ],
      "text/plain": [
       "                   HourDK         Wind     Solar       Power   \n",
       "1     2022-01-01 00:00:00  1114.281163  0.022679  789.892353  \\\n",
       "3     2022-01-01 01:00:00  1206.825676  0.022142  644.458331   \n",
       "5     2022-01-01 02:00:00  1215.685368  0.020423  599.437590   \n",
       "7     2022-01-01 03:00:00  1070.803483  0.024189  624.804126   \n",
       "9     2022-01-01 04:00:00   899.497269  0.019869  650.523492   \n",
       "...                   ...          ...       ...         ...   \n",
       "37911 2024-02-29 19:00:00  1269.406780  0.603984  692.384290   \n",
       "37913 2024-02-29 20:00:00  1295.941996  0.462586  699.232854   \n",
       "37915 2024-02-29 21:00:00  1279.730675  0.429421  669.755253   \n",
       "37916 2024-02-29 22:00:00  1233.604793  0.437171  605.839292   \n",
       "37919 2024-02-29 23:00:00  1179.234544  0.241834  565.812364   \n",
       "\n",
       "       GrossConsumptionMWh  SpotPriceDKK  hourly_temperature_2m  cloud_cover   \n",
       "1              1415.517875    346.540009                    7.0          100  \\\n",
       "3              1394.053760    307.350006                    7.4          100   \n",
       "5              1342.593361    313.670013                    6.9          100   \n",
       "7              1292.604709    329.959991                    6.6          100   \n",
       "9              1261.550580    280.130005                    6.7          100   \n",
       "...                    ...           ...                    ...          ...   \n",
       "37911          1950.231822    402.510010                    7.0          100   \n",
       "37913          1856.984338    216.910004                    6.8          100   \n",
       "37915          1767.729341    186.720001                    6.5          100   \n",
       "37916          1654.056866    186.720001                    6.5          100   \n",
       "37919          1566.990822    186.500000                    6.7          100   \n",
       "\n",
       "       hourly_wind_speed_10m  \n",
       "1                       4.14  \n",
       "3                       4.10  \n",
       "5                       3.98  \n",
       "7                       3.57  \n",
       "9                       3.01  \n",
       "...                      ...  \n",
       "37911                   4.73  \n",
       "37913                   4.74  \n",
       "37915                   4.84  \n",
       "37916                   4.82  \n",
       "37919                   4.67  \n",
       "\n",
       "[18960 rows x 9 columns]"
      ]
     },
     "execution_count": 3,
     "metadata": {},
     "output_type": "execute_result"
    }
   ],
   "source": [
    "df_use=df[['HourDK', 'Wind', 'Solar', 'Power', 'GrossConsumptionMWh',\n",
    "       'SpotPriceDKK', 'hourly_temperature_2m',\n",
    "       'cloud_cover', 'hourly_wind_speed_10m']]\n",
    "df_use\n",
    "#'Hydro','Unknown_Production',\n",
    "       # 'ExchangeGreatBelt_MWh', 'Exchange', 'GridLoss' , 'SpotPriceEUR', 'precipitation', "
   ]
  },
  {
   "cell_type": "code",
   "execution_count": 4,
   "metadata": {},
   "outputs": [
    {
     "data": {
      "image/png": "[encoded data removed]",
      "text/plain": [
       "<Figure size 1200x800 with 4 Axes>"
      ]
     },
     "metadata": {},
     "output_type": "display_data"
    }
   ],
   "source": [
    "import numpy as np\n",
    "import matplotlib.pyplot as plt\n",
    "\n",
    "# Generate sample data for each variable (replace these with your actual data)\n",
    "num_samples = 1000\n",
    "\n",
    "# Sample data for Solar Generation (Gamma distribution)\n",
    "solar_shape = 2.0\n",
    "solar_rate = 0.5\n",
    "solar_samples = np.random.gamma(solar_shape, 1.0 / solar_rate, size=num_samples)\n",
    "\n",
    "# Sample data for Wind Generation (Normal distribution)\n",
    "wind_mean = 1000.0\n",
    "wind_std = 200.0\n",
    "wind_samples = np.random.normal(wind_mean, wind_std, size=num_samples)\n",
    "\n",
    "# Sample data for Cloud Cover (Beta distribution)\n",
    "cloud_alpha = 2.0\n",
    "cloud_beta = 5.0\n",
    "cloud_samples = np.random.beta(cloud_alpha, cloud_beta, size=num_samples)\n",
    "\n",
    "# Sample data for Other Generation (Gamma distribution)\n",
    "other_shape = 3.0\n",
    "other_rate = 1.0\n",
    "other_samples = np.random.gamma(other_shape, 1.0 / other_rate, size=num_samples)\n",
    "\n",
    "# Create subplots for each variable\n",
    "fig, axs = plt.subplots(2, 2, figsize=(12, 8))\n",
    "\n",
    "# Plot histograms for each variable\n",
    "axs[0, 0].hist(solar_samples, bins=30, color='skyblue', edgecolor='black')\n",
    "axs[0, 0].set_title('Solar Generation')\n",
    "axs[0, 1].hist(wind_samples, bins=30, color='lightgreen', edgecolor='black')\n",
    "axs[0, 1].set_title('Wind Generation')\n",
    "axs[1, 0].hist(cloud_samples, bins=30, color='lightcoral', edgecolor='black')\n",
    "axs[1, 0].set_title('Cloud Cover')\n",
    "axs[1, 1].hist(other_samples, bins=30, color='gold', edgecolor='black')\n",
    "axs[1, 1].set_title('Other Generation')\n",
    "\n",
    "# Add a title to the figure\n",
    "fig.suptitle('Distributions of Variables')\n",
    "\n",
    "# Adjust layout\n",
    "plt.tight_layout()\n",
    "plt.show()\n"
   ]
  },
  {
   "cell_type": "code",
   "execution_count": 5,
   "metadata": {},
   "outputs": [
    {
     "name": "stdout",
     "output_type": "stream",
     "text": [
      "Cloud cover variance: 1483\n",
      "Solar generation variance: 19066\n",
      "Wind generation variance: 237211\n"
     ]
    }
   ],
   "source": [
    "# Calculate variance for cloud, solar, and wind\n",
    "cloud_variance = df[\"cloud_cover\"].var()\n",
    "solar_variance = df[\"Solar\"].var()\n",
    "wind_variance = df[\"Wind\"].var()\n",
    "\n",
    "# Print the variances\n",
    "print(f\"Cloud cover variance: {cloud_variance:.0f}\")\n",
    "print(f\"Solar generation variance: {solar_variance:.0f}\")\n",
    "print(f\"Wind generation variance: {wind_variance:.0f}\")"
   ]
  },
  {
   "cell_type": "code",
   "execution_count": 6,
   "metadata": {},
   "outputs": [],
   "source": [
    "# import matplotlib.pyplot as plt\n",
    "\n",
    "# # Assuming your DataFrame is loaded as 'df'\n",
    "\n",
    "# # Define desired variable names for stacked bar chart\n",
    "# var_names = ['Solar', 'Wind', 'cloud_cover', 'Power']  # Assuming 'Other' represents a specific column\n",
    "\n",
    "# # Extract data for each variable based on column names\n",
    "# data_dict = {name: df[name] for name in var_names}\n",
    "\n",
    "# # Create the stacked bar chart\n",
    "# fig, ax = plt.subplots(figsize=(12, 6))\n",
    "# ax.stackplot(data_dict.keys(), data_dict.values(), labels=var_names, colors=['skyblue', 'lightgreen', 'lightcoral', 'gold'])\n",
    "# ax.set_title('Energy Production Breakdown')\n",
    "# ax.set_xlabel('Samples (based on index)')\n",
    "# ax.set_ylabel('Values')\n",
    "# ax.legend(title='Energy Source')\n",
    "# plt.xticks(rotation=45)  # Rotate x-axis labels for better readability\n",
    "# plt.tight_layout()\n",
    "# plt.show()"
   ]
  },
  {
   "cell_type": "markdown",
   "metadata": {},
   "source": []
  },
  {
   "cell_type": "code",
   "execution_count": 7,
   "metadata": {},
   "outputs": [],
   "source": [
    "# import numpyro\n",
    "# import numpyro.distributions as dist\n",
    "# from numpyro import handlers\n",
    "# from numpyro.infer import MCMC, NUTS\n",
    "\n",
    "# import jax\n",
    "# import jax.numpy as jnp\n",
    "# from jax import random, vmap\n",
    "# from jax.scipy.special import logsumexp\n",
    "# from jax import lax"
   ]
  },
  {
   "cell_type": "code",
   "execution_count": 8,
   "metadata": {},
   "outputs": [
    {
     "name": "stdout",
     "output_type": "stream",
     "text": [
      "Requirement already satisfied: jax in /Users/c-hasselris/opt/anaconda3/envs/Python3.10/lib/python3.10/site-packages (0.4.25)\n",
      "Requirement already satisfied: opt-einsum in /Users/c-hasselris/opt/anaconda3/envs/Python3.10/lib/python3.10/site-packages (from jax) (3.3.0)\n",
      "Requirement already satisfied: ml-dtypes>=0.2.0 in /Users/c-hasselris/opt/anaconda3/envs/Python3.10/lib/python3.10/site-packages (from jax) (0.3.2)\n",
      "Requirement already satisfied: scipy>=1.9 in /Users/c-hasselris/opt/anaconda3/envs/Python3.10/lib/python3.10/site-packages (from jax) (1.12.0)\n",
      "Requirement already satisfied: numpy>=1.22 in /Users/c-hasselris/opt/anaconda3/envs/Python3.10/lib/python3.10/site-packages (from jax) (1.26.4)\n",
      "Note: you may need to restart the kernel to use updated packages.\n"
     ]
    }
   ],
   "source": [
    "pip install jax"
   ]
  },
  {
   "cell_type": "code",
   "execution_count": 9,
   "metadata": {},
   "outputs": [
    {
     "name": "stdout",
     "output_type": "stream",
     "text": [
      "Requirement already satisfied: numpyro in /Users/c-hasselris/opt/anaconda3/envs/Python3.10/lib/python3.10/site-packages (0.14.0)\n",
      "Requirement already satisfied: jaxlib>=0.4.14 in /Users/c-hasselris/opt/anaconda3/envs/Python3.10/lib/python3.10/site-packages (from numpyro) (0.4.23)\n",
      "Requirement already satisfied: tqdm in /Users/c-hasselris/opt/anaconda3/envs/Python3.10/lib/python3.10/site-packages (from numpyro) (4.65.0)\n",
      "Requirement already satisfied: multipledispatch in /Users/c-hasselris/opt/anaconda3/envs/Python3.10/lib/python3.10/site-packages (from numpyro) (1.0.0)\n",
      "Requirement already satisfied: jax>=0.4.14 in /Users/c-hasselris/opt/anaconda3/envs/Python3.10/lib/python3.10/site-packages (from numpyro) (0.4.25)\n",
      "Requirement already satisfied: numpy in /Users/c-hasselris/opt/anaconda3/envs/Python3.10/lib/python3.10/site-packages (from numpyro) (1.26.4)\n",
      "Requirement already satisfied: opt-einsum in /Users/c-hasselris/opt/anaconda3/envs/Python3.10/lib/python3.10/site-packages (from jax>=0.4.14->numpyro) (3.3.0)\n",
      "Requirement already satisfied: ml-dtypes>=0.2.0 in /Users/c-hasselris/opt/anaconda3/envs/Python3.10/lib/python3.10/site-packages (from jax>=0.4.14->numpyro) (0.3.2)\n",
      "Requirement already satisfied: scipy>=1.9 in /Users/c-hasselris/opt/anaconda3/envs/Python3.10/lib/python3.10/site-packages (from jax>=0.4.14->numpyro) (1.12.0)\n",
      "Note: you may need to restart the kernel to use updated packages.\n"
     ]
    }
   ],
   "source": [
    "pip install numpyro"
   ]
  },
  {
   "cell_type": "code",
   "execution_count": 10,
   "metadata": {},
   "outputs": [],
   "source": [
    "import pyro\n",
    "import pyro.distributions as dist\n",
    "import torch\n",
    "import torch.nn as nn\n",
    "# import numpyro\n",
    "# import numpyro.distributions as dist"
   ]
  },
  {
   "cell_type": "code",
   "execution_count": 11,
   "metadata": {},
   "outputs": [],
   "source": [
    "\n",
    "#   \"\"\"\n",
    "#   This model defines a probabilistic relationship between Wind, Solar, Power, \n",
    "#   and Gross Consumption using a partially directed structure.\n",
    "\n",
    "#   Args:\n",
    "#       data: A dictionary containing observed values for each variable.\n",
    "\n",
    "#   Returns:\n",
    "#       No return value, samples are collected within the model definition.\n",
    "#   \"\"\"\n",
    "\n",
    "#   # Extract data\n",
    "#   wind = df[\"Wind\"]\n",
    "#   solar = df[\"Solar\"]\n",
    "#   power = df[\"Power\"]\n",
    "\n",
    "#   # Define coefficients (assuming linear relationships for now)\n",
    "#   beta_wind = pyro.sample(name=\"beta_wind\", fn=dist.Normal(loc=0., scale=1.))\n",
    "#   beta_solar = pyro.sample(name=\"beta_solar\", fn=dist.Normal(loc=0., scale=1.))\n",
    "#   beta_power = pyro.sample(name=\"beta_power\", fn=dist.Normal(loc=0., scale=1.))\n",
    "\n",
    "#   # Define a base distribution for gross consumption (can be adjusted based on your findings)\n",
    "#   mu_0 = pyro.param(name=\"mu_0\", default=0.0)  # Base mean\n",
    "#   sigma_0 = pyro.param(name=\"sigma_0\", default=1.0)  # Base standard deviation\n",
    "\n",
    "#   # Model the gross consumption\n",
    "#   gross_consumption = beta_wind * wind + beta_solar * solar + beta_power * power + mu_0\n",
    "#   pyro.sample(\n",
    "#       name=\"gross_consumption\", fn=dist.Normal(loc=gross_consumption, scale=sigma_0), obs=data[\"GrossConsumptionMWh\"]\n",
    "#   )\n",
    "\n",
    "# # Example usage (assuming you have your data loaded in a dictionary named 'data')\n",
    "# model(data)\n"
   ]
  },
  {
   "cell_type": "code",
   "execution_count": 12,
   "metadata": {},
   "outputs": [],
   "source": [
    "# from sklearn.model_selection import train_test_split\n",
    "# import matplotlib.pyplot as plt\n",
    "# import numpy as np\n",
    "\n",
    "# # Define train and test indices\n",
    "# train_idx, test_idx = train_test_split(df.index, test_size=0.2, random_state=42)\n",
    "\n",
    "# # Define train and test sets\n",
    "# train_data = df.loc[train_idx]\n",
    "# test_data = df.loc[test_idx]\n",
    "\n",
    "# X_train = train_data.drop(columns=['GrossConsumptionMWh'])\n",
    "# y_train = train_data['GrossConsumptionMWh'].values\n",
    "\n",
    "# X_test = test_data.drop(columns=['GrossConsumptionMWh'])\n",
    "# y_test = test_data['GrossConsumptionMWh'].values\n",
    "\n",
    "# # Define guide fuanction\n",
    "# model = EnergyModel(n_in=X_train.shape[1], n_hidden=4, n_out=1) \n",
    "# guide = AutoDiagonalNormal(model)\n",
    "\n",
    "# # Reset parameter values\n",
    "# pyro.clear_param_store()\n",
    "\n",
    "# # Define the number of optimization steps\n",
    "# n_steps = 10000\n",
    "\n",
    "# # Setup the optimizer\n",
    "# adam_params = {\"lr\": 0.01}\n",
    "# optimizer = ClippedAdam(adam_params)\n",
    "\n",
    "# # Setup the inference algorithm\n",
    "# elbo = Trace_ELBO(num_particles=1)\n",
    "# svi = SVI(model, guide, optimizer, loss=elbo)\n",
    "\n",
    "# # Do gradient steps\n",
    "# train_losses = []\n",
    "# for step in range(n_steps):\n",
    "#     elbo = svi.step(torch.tensor(X_train.values, dtype=torch.float32), \n",
    "#                     torch.tensor(y_train, dtype=torch.float32))\n",
    "#     train_losses.append(elbo)\n",
    "#     if step % 500 == 0:\n",
    "#         print(\"[%d] ELBO: %.1f\" % (step, elbo))\n",
    "\n",
    "# # Plot the training loss curve\n",
    "# plt.plot(train_losses)\n",
    "# plt.xlabel(\"Steps\")\n",
    "# plt.ylabel(\"ELBO\")\n",
    "# plt.title(\"Training Loss Curve\")\n",
    "# plt.show()\n"
   ]
  },
  {
   "cell_type": "code",
   "execution_count": 13,
   "metadata": {},
   "outputs": [],
   "source": [
    "# from pyro.infer import Predictive\n",
    "\n",
    "# # Get posterior samples for beta\n",
    "# predictive = Predictive(model, guide=guide, num_samples=1000,\n",
    "#                         return_sites=(\"beta\",))\n",
    "# samples = predictive(X_train.values, y_train)\n",
    "\n",
    "# print(\"Estimated beta:\", samples[\"beta\"].mean(axis=0).detach().numpy()[0])\n",
    "\n",
    "# # Make predictions for test set\n",
    "# predictive = Predictive(model, guide=guide, num_samples=1000,\n",
    "#                         return_sites=(\"obs\", \"_RETURN\"))\n",
    "# samples = predictive(torch.tensor(X_test.values, dtype=torch.float32))\n",
    "\n",
    "# y_pred = samples[\"obs\"].mean(axis=0).detach().numpy()\n",
    "# mae = np.mean(np.abs(y_test - y_pred))\n",
    "# print(\"MAE:\", mae)\n",
    "\n",
    "# # Plot the true vs predicted values\n",
    "# plt.scatter(y_test, y_pred)\n",
    "# plt.xlabel(\"True Gross Consumption\")\n",
    "# plt.ylabel(\"Predicted Gross Consumption\")\n",
    "# plt.title(\"True vs Predicted Gross Consumption\")\n",
    "# plt.show()"
   ]
  },
  {
   "cell_type": "code",
   "execution_count": 14,
   "metadata": {},
   "outputs": [],
   "source": [
    "import torch\n",
    "import pandas as pd\n",
    "import numpy as np\n",
    "import pyro\n",
    "import pyro.distributions as dist"
   ]
  },
  {
   "cell_type": "code",
   "execution_count": 15,
   "metadata": {},
   "outputs": [],
   "source": [
    "def model(X, z1, z2, z3):\n",
    "    # Define initial values for means\n",
    "    \n",
    "    # T_prev = X[0, 0]\n",
    "    # C_prev = X[0, 1]\n",
    "    # W_prev = X[0, 2]\n",
    "    # O_prev = X[0, 3]\n",
    "\n",
    "    # Define priors for model parameters\n",
    "    # tau = pyro.sample(\"tau\", dist.Normal(0, 1))\n",
    "    # kappa = pyro.sample(\"kappa\", dist.Normal(0, 1))\n",
    "    # gamma = pyro.sample(\"gamma\", dist.HalfCauchy(1))\n",
    "    # omega = pyro.sample(\"omega\", dist.Normal(0, 1))\n",
    "    # sigma = pyro.sample(\"sigma\", dist.HalfCauchy(1))\n",
    "    # rho_1 = pyro.sample(\"rho_1\", dist.HalfCauchy(1))\n",
    "    # rho_2 = pyro.sample(\"rho_2\", dist.Normal(0, 1))\n",
    "    # partial = pyro.sample(\"partial\", dist.Normal(0, 1))\n",
    "    # epsilon = pyro.sample(\"epsilon\", dist.Normal(0, 1))\n",
    "    # alpha = pyro.sample(\"alpha\", dist.Normal(0, 1))\n",
    "    # beta = pyro.sample(\"beta\", dist.Normal(0, 1))\n",
    "\n",
    "    tau = pyro.sample(\"tau\", dist.HalfCauchy(1))\n",
    "    kappa = pyro.sample(\"kappa\", dist.HalfCauchy(1))\n",
    "    gamma = pyro.sample(\"gamma\", dist.HalfCauchy(1))\n",
    "    omega = pyro.sample(\"omega\", dist.HalfCauchy(1))\n",
    "    sigma = pyro.sample(\"sigma\", dist.HalfCauchy(1))\n",
    "    rho_1 = pyro.sample(\"rho_1\", dist.HalfCauchy(1))\n",
    "    rho_2 = pyro.sample(\"rho_2\", dist.HalfCauchy(1))\n",
    "    partial = pyro.sample(\"partial\", dist.HalfCauchy(1))\n",
    "    epsilon = pyro.sample(\"epsilon\", dist.HalfCauchy(1))\n",
    "    alpha = pyro.sample(\"alpha\", dist.HalfCauchy(1))\n",
    "    beta = pyro.sample(\"beta\", dist.HalfCauchy(1))\n",
    "\n",
    "    D_t_vector = torch.zeros(len(X))\n",
    "\n",
    "    # For each time period t\n",
    "    for t in range(1, len(X) + 1):\n",
    "        # # Mean of temperature = don't draw, use previous period\n",
    "        # T_t = T_prev\n",
    "\n",
    "        # # Variance of temperature = z1\n",
    "        # # Mean of Cloud cover = don't draw, use previous period\n",
    "        # C_t = C_prev\n",
    "\n",
    "        # # Variance of Cloud cover = z2\n",
    "        # # Mean of Wind = don't draw, use previous period\n",
    "        # W_t = W_prev\n",
    "\n",
    "        # # Variance of Wind = z3\n",
    "        # # Other generation = O_t\n",
    "        # O_t = O_prev\n",
    "\n",
    "        # Update previous values FROM TENSOR SO FORMAT WEIRD\n",
    "        T_prev = X[t - 1, 0]  # Assuming temperature is the first column\n",
    "        C_prev = X[t - 1, 1]  # Assuming cloud cover is the second column\n",
    "        W_prev = X[t - 1, 2]  # Assuming wind speed is the third column\n",
    "        O_prev = X[t - 1, 3]  # Assuming other generation is the fourth column\n",
    "\n",
    "        # Draw samples for other variables\n",
    "        T_t = pyro.sample(f\"T_{t}\", dist.Normal(T_prev, z1))\n",
    "        C_t = pyro.sample(f\"C_{t}\", dist.Normal(C_prev, z2))\n",
    "        W_t = pyro.sample(f\"W_{t}\", dist.Normal(W_prev, z3))\n",
    "        S_t = pyro.sample(f\"S_{t}\", dist.Beta(abs(tau * T_t + kappa * C_t), gamma))\n",
    "        \n",
    "        Gw_t = pyro.sample(f\"Gw_{t}\", dist.Normal(omega * W_t, sigma))\n",
    "        P_t = pyro.sample(f\"P_{t}\", dist.Normal(S_t * rho_1 + W_t * rho_2, partial))\n",
    "        # D_t = pyro.sample(f\"D_{t}\", dist.Normal(beta * O_prev + epsilon * P_t, alpha))\n",
    "        \n",
    "        # Ensure that the scale parameter is positive by taking the absolute value\n",
    "        D_t = pyro.sample(f\"D_{t}\", dist.Normal(beta * O_prev + epsilon * P_t, torch.abs(alpha)))\n",
    "        D_t_vector[t - 1] = D_t\n",
    "\n",
    "    return (D_t_vector)\n"
   ]
  },
  {
   "cell_type": "code",
   "execution_count": 16,
   "metadata": {},
   "outputs": [
    {
     "data": {
      "text/plain": [
       "Index(['HourDK', 'Wind', 'Solar', 'Power', 'GrossConsumptionMWh',\n",
       "       'SpotPriceDKK', 'hourly_temperature_2m', 'cloud_cover',\n",
       "       'hourly_wind_speed_10m'],\n",
       "      dtype='object')"
      ]
     },
     "execution_count": 16,
     "metadata": {},
     "output_type": "execute_result"
    }
   ],
   "source": [
    "df_use.columns"
   ]
  },
  {
   "cell_type": "code",
   "execution_count": 17,
   "metadata": {},
   "outputs": [],
   "source": [
    "num_total_obs = len(df_use)\n",
    "num_train_obs = int(0.8 * num_total_obs)\n",
    "num_test_obs = num_total_obs - num_train_obs\n",
    "\n",
    "columns = ['hourly_temperature_2m', 'cloud_cover', 'hourly_wind_speed_10m', 'Power']\n",
    "\n",
    "X_train = torch.tensor(df_use[columns][:num_train_obs].values, dtype=torch.float32)\n",
    "X_test = torch.tensor(df_use[columns][num_train_obs:].values, dtype=torch.float32)\n"
   ]
  },
  {
   "cell_type": "code",
   "execution_count": 18,
   "metadata": {},
   "outputs": [
    {
     "data": {
      "text/plain": [
       "tensor([[  7.0000, 100.0000,   4.1400, 789.8923],\n",
       "        [  7.4000, 100.0000,   4.1000, 644.4583],\n",
       "        [  6.9000, 100.0000,   3.9800, 599.4376],\n",
       "        ...,\n",
       "        [ 13.0000,   1.0000,   4.9200,  80.3416],\n",
       "        [ 12.8000,   1.0000,   4.9200,  80.0201],\n",
       "        [ 12.8000,  16.0000,   4.9200,  76.8625]])"
      ]
     },
     "execution_count": 18,
     "metadata": {},
     "output_type": "execute_result"
    }
   ],
   "source": [
    "X_train\n"
   ]
  },
  {
   "cell_type": "code",
   "execution_count": null,
   "metadata": {},
   "outputs": [],
   "source": []
  },
  {
   "cell_type": "code",
   "execution_count": 19,
   "metadata": {},
   "outputs": [
    {
     "data": {
      "text/plain": [
       "1        1415.517875\n",
       "3        1394.053760\n",
       "5        1342.593361\n",
       "7        1292.604709\n",
       "9        1261.550580\n",
       "            ...     \n",
       "37911    1950.231822\n",
       "37913    1856.984338\n",
       "37915    1767.729341\n",
       "37916    1654.056866\n",
       "37919    1566.990822\n",
       "Name: GrossConsumptionMWh, Length: 18960, dtype: float64"
      ]
     },
     "execution_count": 19,
     "metadata": {},
     "output_type": "execute_result"
    }
   ],
   "source": [
    "df_use[\"GrossConsumptionMWh\"]"
   ]
  },
  {
   "cell_type": "code",
   "execution_count": 20,
   "metadata": {},
   "outputs": [],
   "source": [
    "\n",
    "# 4. Run the model for the training set\n",
    "temp_var = df_use['hourly_temperature_2m'].var() #6.6392  # Set the value of z1\n",
    "cloud_var = df_use['cloud_cover'].var()  # Set the value of z2\n",
    "win_var = df_use['hourly_wind_speed_10m'].var()  # Set the value of z3\n",
    "\n",
    "\n",
    "\n",
    "# pyro.clear_param_store()  # aClear parameter store before running the model\n",
    "pred_demand = model(X_train, temp_var, cloud_var, win_var)\n"
   ]
  },
  {
   "cell_type": "code",
   "execution_count": 21,
   "metadata": {},
   "outputs": [
    {
     "data": {
      "text/plain": [
       "array([1842.8137 , 1500.5037 , 1393.5516 , ...,  186.85576,  184.41179,\n",
       "        179.57335], dtype=float32)"
      ]
     },
     "execution_count": 21,
     "metadata": {},
     "output_type": "execute_result"
    }
   ],
   "source": [
    "np.array(pred_demand)"
   ]
  },
  {
   "cell_type": "code",
   "execution_count": 34,
   "metadata": {},
   "outputs": [],
   "source": [
    "pred_actual = df_use[\"GrossConsumptionMWh\"][:num_train_obs].values"
   ]
  },
  {
   "cell_type": "code",
   "execution_count": 35,
   "metadata": {},
   "outputs": [],
   "source": [
    "pred_actual= pred_actual"
   ]
  },
  {
   "cell_type": "code",
   "execution_count": 36,
   "metadata": {},
   "outputs": [
    {
     "data": {
      "text/plain": [
       "tensor([1415.5179, 1394.0538, 1342.5934,  ..., 1212.9663, 1135.6820,\n",
       "        1120.3859], dtype=torch.float64)"
      ]
     },
     "execution_count": 36,
     "metadata": {},
     "output_type": "execute_result"
    }
   ],
   "source": [
    "torch.tensor(pred_actual)"
   ]
  },
  {
   "cell_type": "code",
   "execution_count": 37,
   "metadata": {},
   "outputs": [
    {
     "name": "stdout",
     "output_type": "stream",
     "text": [
      "Variance of Temperature: 44.08146685608273\n",
      "Variance of Cloud Cover: 1482.9263884530535\n",
      "Variance of Wind Speed: 4.23534777528591\n"
     ]
    }
   ],
   "source": [
    "# Assuming df_use is your DataFrame containing the data\n",
    "variance_temperature = df_use['hourly_temperature_2m'].var()\n",
    "variance_cloud_cover = df_use['cloud_cover'].var()\n",
    "variance_wind_speed = df_use['hourly_wind_speed_10m'].var()\n",
    "\n",
    "print(\"Variance of Temperature:\", variance_temperature)\n",
    "print(\"Variance of Cloud Cover:\", variance_cloud_cover)\n",
    "print(\"Variance of Wind Speed:\", variance_wind_speed)"
   ]
  },
  {
   "cell_type": "code",
   "execution_count": 38,
   "metadata": {},
   "outputs": [
    {
     "name": "stdout",
     "output_type": "stream",
     "text": [
      "Mean Absolute Percentage Error (MAPE): 35.91%\n",
      "Mean Squared Error (MSE): 381202.19\n",
      "Root Mean Squared Error (RMSE): 617.42\n"
     ]
    },
    {
     "data": {
      "image/png": "[encoded data removed]",
      "text/plain": [
       "<Figure size 1000x600 with 1 Axes>"
      ]
     },
     "metadata": {},
     "output_type": "display_data"
    }
   ],
   "source": [
    "# Calculate absolute error\n",
    "abs_error = torch.abs(pred_demand - pred_actual)\n",
    "\n",
    "# Calculate Mean Absolute Percentage Error (MAPE)\n",
    "actual = torch.tensor(pred_actual)\n",
    "mape = torch.mean(torch.abs((actual - pred_demand) / actual)) * 100\n",
    "\n",
    "# Calculate Mean Squared Error (MSE)\n",
    "mse = torch.mean((pred_demand - actual) ** 2)\n",
    "\n",
    "# Calculate Root Mean Squared Error (RMSE)\n",
    "rmse = torch.sqrt(mse)\n",
    "\n",
    "# Print error metrics\n",
    "print(f'Mean Absolute Percentage Error (MAPE): {mape:.2f}%')\n",
    "print(f'Mean Squared Error (MSE): {mse:.2f}')\n",
    "print(f'Root Mean Squared Error (RMSE): {rmse:.2f}')\n",
    "\n",
    "# Plot the absolute error\n",
    "plt.figure(figsize=(10, 6))\n",
    "plt.plot(abs_error, color='blue', label='Absolute Error')\n",
    "plt.title('Absolute Error Between Predicted and Actual Demand')\n",
    "plt.xlabel('Time Period')\n",
    "plt.ylabel('Absolute Error')\n",
    "plt.legend()\n",
    "plt.grid(True)\n",
    "plt.show()\n"
   ]
  },
  {
   "cell_type": "code",
   "execution_count": 44,
   "metadata": {},
   "outputs": [
    {
     "data": {
      "text/plain": [
       "(tensor(607.7627), tensor(1165.3004))"
      ]
     },
     "execution_count": 44,
     "metadata": {},
     "output_type": "execute_result"
    }
   ],
   "source": [
    "np.sqrt(pred_demand.var()), torch.mean(pred_demand)"
   ]
  },
  {
   "cell_type": "code",
   "execution_count": 49,
   "metadata": {},
   "outputs": [
    {
     "data": {
      "text/plain": [
       "(283.7509421162235, 1502.4549882495385)"
      ]
     },
     "execution_count": 49,
     "metadata": {},
     "output_type": "execute_result"
    }
   ],
   "source": [
    "np.sqrt(pred_actual.var()), np.mean(pred_actual)"
   ]
  },
  {
   "cell_type": "code",
   "execution_count": 39,
   "metadata": {},
   "outputs": [
    {
     "data": {
      "text/plain": [
       "(array([1842.8137, 1500.5037, 1393.5516, 1454.3148, 1515.5133, 1321.5791,\n",
       "        1497.8533, 1579.3402, 1820.7671, 1703.6394], dtype=float32),\n",
       " array([1415.517875, 1394.05376 , 1342.593361, 1292.604709, 1261.55058 ,\n",
       "        1231.723792, 1273.265994, 1308.530874, 1344.570144, 1401.806261]))"
      ]
     },
     "execution_count": 39,
     "metadata": {},
     "output_type": "execute_result"
    }
   ],
   "source": [
    "np.array(pred_demand)[0:10],pred_actual[0:10]"
   ]
  },
  {
   "cell_type": "code",
   "execution_count": 28,
   "metadata": {},
   "outputs": [
    {
     "data": {
      "text/plain": [
       "(array([1842.8137 , 1500.5037 , 1393.5516 , ...,  186.85576,  184.41179,\n",
       "         179.57335], dtype=float32),\n",
       " array([141.5517875, 139.405376 , 134.2593361, 129.2604709, 126.155058 ,\n",
       "        123.1723792, 127.3265994, 130.8530874, 134.4570144, 140.1806261]))"
      ]
     },
     "execution_count": 28,
     "metadata": {},
     "output_type": "execute_result"
    }
   ],
   "source": [
    "(np.array(pred_demand), pred_actual[0:10])"
   ]
  },
  {
   "cell_type": "code",
   "execution_count": 29,
   "metadata": {},
   "outputs": [
    {
     "name": "stdout",
     "output_type": "stream",
     "text": [
      "0.5286730897589154\n"
     ]
    }
   ],
   "source": [
    "correlation = np.corrcoef(pred_demand, pred_actual)[0, 1]\n",
    "print(correlation)\n"
   ]
  },
  {
   "cell_type": "code",
   "execution_count": null,
   "metadata": {},
   "outputs": [],
   "source": []
  }
 ],
 "metadata": {
  "kernelspec": {
   "display_name": "Python3.10",
   "language": "python",
   "name": "python3"
  },
  "language_info": {
   "codemirror_mode": {
    "name": "ipython",
    "version": 3
   },
   "file_extension": ".py",
   "mimetype": "text/x-python",
   "name": "python",
   "nbconvert_exporter": "python",
   "pygments_lexer": "ipython3",
   "version": "3.10.11"
  }
 },
 "nbformat": 4,
 "nbformat_minor": 2
}
